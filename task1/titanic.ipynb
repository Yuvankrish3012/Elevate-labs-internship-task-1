{
 "cells": [
  {
   "cell_type": "code",
   "execution_count": 1,
   "id": "78a47824",
   "metadata": {},
   "outputs": [
    {
     "name": "stdout",
     "output_type": "stream",
     "text": [
      "<class 'pandas.core.frame.DataFrame'>\n",
      "RangeIndex: 891 entries, 0 to 890\n",
      "Data columns (total 12 columns):\n",
      " #   Column       Non-Null Count  Dtype  \n",
      "---  ------       --------------  -----  \n",
      " 0   PassengerId  891 non-null    int64  \n",
      " 1   Survived     891 non-null    int64  \n",
      " 2   Pclass       891 non-null    int64  \n",
      " 3   Name         891 non-null    object \n",
      " 4   Sex          891 non-null    object \n",
      " 5   Age          714 non-null    float64\n",
      " 6   SibSp        891 non-null    int64  \n",
      " 7   Parch        891 non-null    int64  \n",
      " 8   Ticket       891 non-null    object \n",
      " 9   Fare         891 non-null    float64\n",
      " 10  Cabin        204 non-null    object \n",
      " 11  Embarked     889 non-null    object \n",
      "dtypes: float64(2), int64(5), object(5)\n",
      "memory usage: 83.7+ KB\n",
      "None\n",
      "   PassengerId  Survived  Pclass  \\\n",
      "0            1         0       3   \n",
      "1            2         1       1   \n",
      "2            3         1       3   \n",
      "3            4         1       1   \n",
      "4            5         0       3   \n",
      "\n",
      "                                                Name     Sex   Age  SibSp  \\\n",
      "0                            Braund, Mr. Owen Harris    male  22.0      1   \n",
      "1  Cumings, Mrs. John Bradley (Florence Briggs Th...  female  38.0      1   \n",
      "2                             Heikkinen, Miss. Laina  female  26.0      0   \n",
      "3       Futrelle, Mrs. Jacques Heath (Lily May Peel)  female  35.0      1   \n",
      "4                           Allen, Mr. William Henry    male  35.0      0   \n",
      "\n",
      "   Parch            Ticket     Fare Cabin Embarked  \n",
      "0      0         A/5 21171   7.2500   NaN        S  \n",
      "1      0          PC 17599  71.2833   C85        C  \n",
      "2      0  STON/O2. 3101282   7.9250   NaN        S  \n",
      "3      0            113803  53.1000  C123        S  \n",
      "4      0            373450   8.0500   NaN        S  \n"
     ]
    }
   ],
   "source": [
    "import pandas as pd\n",
    "import numpy as np\n",
    "import matplotlib.pyplot as plt\n",
    "import seaborn as sns\n",
    "\n",
    "# Load the dataset\n",
    "titanic = pd.read_csv('Titanic-Dataset.csv')\n",
    "\n",
    "# Display basic info\n",
    "print(titanic.info())\n",
    "print(titanic.head())"
   ]
  },
  {
   "cell_type": "code",
   "execution_count": 2,
   "id": "e38c63a4",
   "metadata": {},
   "outputs": [
    {
     "name": "stdout",
     "output_type": "stream",
     "text": [
      "PassengerId      0\n",
      "Survived         0\n",
      "Pclass           0\n",
      "Name             0\n",
      "Sex              0\n",
      "Age            177\n",
      "SibSp            0\n",
      "Parch            0\n",
      "Ticket           0\n",
      "Fare             0\n",
      "Cabin          687\n",
      "Embarked         2\n",
      "dtype: int64\n"
     ]
    },
    {
     "name": "stderr",
     "output_type": "stream",
     "text": [
      "C:\\Users\\yuvan\\AppData\\Local\\Temp\\ipykernel_22624\\3436719550.py:5: FutureWarning: A value is trying to be set on a copy of a DataFrame or Series through chained assignment using an inplace method.\n",
      "The behavior will change in pandas 3.0. This inplace method will never work because the intermediate object on which we are setting values always behaves as a copy.\n",
      "\n",
      "For example, when doing 'df[col].method(value, inplace=True)', try using 'df.method({col: value}, inplace=True)' or df[col] = df[col].method(value) instead, to perform the operation inplace on the original object.\n",
      "\n",
      "\n",
      "  titanic['Age'].fillna(titanic['Age'].median(), inplace=True)\n",
      "C:\\Users\\yuvan\\AppData\\Local\\Temp\\ipykernel_22624\\3436719550.py:8: FutureWarning: A value is trying to be set on a copy of a DataFrame or Series through chained assignment using an inplace method.\n",
      "The behavior will change in pandas 3.0. This inplace method will never work because the intermediate object on which we are setting values always behaves as a copy.\n",
      "\n",
      "For example, when doing 'df[col].method(value, inplace=True)', try using 'df.method({col: value}, inplace=True)' or df[col] = df[col].method(value) instead, to perform the operation inplace on the original object.\n",
      "\n",
      "\n",
      "  titanic['Embarked'].fillna(titanic['Embarked'].mode()[0], inplace=True)\n",
      "C:\\Users\\yuvan\\AppData\\Local\\Temp\\ipykernel_22624\\3436719550.py:14: FutureWarning: A value is trying to be set on a copy of a DataFrame or Series through chained assignment using an inplace method.\n",
      "The behavior will change in pandas 3.0. This inplace method will never work because the intermediate object on which we are setting values always behaves as a copy.\n",
      "\n",
      "For example, when doing 'df[col].method(value, inplace=True)', try using 'df.method({col: value}, inplace=True)' or df[col] = df[col].method(value) instead, to perform the operation inplace on the original object.\n",
      "\n",
      "\n",
      "  titanic['Fare'].fillna(titanic['Fare'].median(), inplace=True)\n"
     ]
    }
   ],
   "source": [
    "# Check for missing values\n",
    "print(titanic.isnull().sum())\n",
    "\n",
    "# Fill missing Age with median (better than mean for skewed distributions)\n",
    "titanic['Age'].fillna(titanic['Age'].median(), inplace=True)\n",
    "\n",
    "# Fill missing Embarked with mode (most frequent value)\n",
    "titanic['Embarked'].fillna(titanic['Embarked'].mode()[0], inplace=True)\n",
    "\n",
    "# Cabin has too many missing values - we'll drop it\n",
    "titanic.drop('Cabin', axis=1, inplace=True)\n",
    "\n",
    "# Fill missing Fare with median\n",
    "titanic['Fare'].fillna(titanic['Fare'].median(), inplace=True)"
   ]
  },
  {
   "cell_type": "code",
   "execution_count": 3,
   "id": "af0f9c2d",
   "metadata": {},
   "outputs": [],
   "source": [
    "# Create FamilySize feature\n",
    "titanic['FamilySize'] = titanic['SibSp'] + titanic['Parch'] + 1\n",
    "\n",
    "# Create IsAlone feature\n",
    "titanic['IsAlone'] = 0\n",
    "titanic.loc[titanic['FamilySize'] == 1, 'IsAlone'] = 1\n",
    "\n",
    "# Extract titles from names\n",
    "titanic['Title'] = titanic['Name'].str.extract(' ([A-Za-z]+)\\.', expand=False)\n",
    "\n",
    "# Group rare titles\n",
    "titanic['Title'] = titanic['Title'].replace(['Lady', 'Countess','Capt', 'Col','Don', 'Dr', \n",
    "                                            'Major', 'Rev', 'Sir', 'Jonkheer', 'Dona'], 'Rare')\n",
    "titanic['Title'] = titanic['Title'].replace('Mlle', 'Miss')\n",
    "titanic['Title'] = titanic['Title'].replace('Ms', 'Miss')\n",
    "titanic['Title'] = titanic['Title'].replace('Mme', 'Mrs')"
   ]
  },
  {
   "cell_type": "code",
   "execution_count": 4,
   "id": "cdb9a9d9",
   "metadata": {},
   "outputs": [],
   "source": [
    "# Convert categorical features to numerical\n",
    "title_mapping = {\"Mr\": 1, \"Miss\": 2, \"Mrs\": 3, \"Master\": 4, \"Rare\": 5}\n",
    "titanic['Title'] = titanic['Title'].map(title_mapping)\n",
    "titanic['Title'] = titanic['Title'].fillna(0)\n",
    "\n",
    "# Convert sex to numerical\n",
    "titanic['Sex'] = titanic['Sex'].map({'male': 0, 'female': 1})\n",
    "\n",
    "# One-hot encoding for Embarked\n",
    "embarked_dummies = pd.get_dummies(titanic['Embarked'], prefix='Embarked')\n",
    "titanic = pd.concat([titanic, embarked_dummies], axis=1)\n",
    "titanic.drop('Embarked', axis=1, inplace=True)"
   ]
  },
  {
   "cell_type": "code",
   "execution_count": 5,
   "id": "628693dc",
   "metadata": {},
   "outputs": [],
   "source": [
    "from sklearn.preprocessing import StandardScaler\n",
    "\n",
    "# Select numerical features to scale\n",
    "features_to_scale = ['Age', 'Fare', 'FamilySize']\n",
    "\n",
    "# Initialize scaler\n",
    "scaler = StandardScaler()\n",
    "\n",
    "# Scale features\n",
    "titanic[features_to_scale] = scaler.fit_transform(titanic[features_to_scale])"
   ]
  },
  {
   "cell_type": "code",
   "execution_count": 6,
   "id": "929e8e20",
   "metadata": {},
   "outputs": [
    {
     "data": {
      "image/png": "[encoded data removed]",
      "text/plain": [
       "<Figure size 1500x500 with 3 Axes>"
      ]
     },
     "metadata": {},
     "output_type": "display_data"
    }
   ],
   "source": [
    "# Visualize outliers using boxplots\n",
    "plt.figure(figsize=(15, 5))\n",
    "plt.subplot(1, 3, 1)\n",
    "sns.boxplot(y=titanic['Age'])\n",
    "plt.subplot(1, 3, 2)\n",
    "sns.boxplot(y=titanic['Fare'])\n",
    "plt.subplot(1, 3, 3)\n",
    "sns.boxplot(y=titanic['FamilySize'])\n",
    "plt.tight_layout()\n",
    "plt.show()\n",
    "\n",
    "# Handle outliers in Fare (cap at 95th percentile)\n",
    "fare_upper_limit = titanic['Fare'].quantile(0.95)\n",
    "titanic.loc[titanic['Fare'] > fare_upper_limit, 'Fare'] = fare_upper_limit"
   ]
  },
  {
   "cell_type": "code",
   "execution_count": 7,
   "id": "57637dc8",
   "metadata": {},
   "outputs": [],
   "source": [
    "# Drop columns that won't be useful for modeling\n",
    "titanic.drop(['PassengerId', 'Name', 'Ticket'], axis=1, inplace=True)"
   ]
  },
  {
   "cell_type": "code",
   "execution_count": 8,
   "id": "4358377f",
   "metadata": {},
   "outputs": [
    {
     "name": "stdout",
     "output_type": "stream",
     "text": [
      "   Survived  Pclass  Sex       Age  SibSp  Parch      Fare  FamilySize  \\\n",
      "0         0       3    0 -0.565736      1      0 -0.502445    0.059160   \n",
      "1         1       1    1  0.663861      1      0  0.786845    0.059160   \n",
      "2         1       3    1 -0.258337      0      0 -0.488854   -0.560975   \n",
      "3         1       1    1  0.433312      1      0  0.420730    0.059160   \n",
      "4         0       3    0  0.433312      0      0 -0.486337   -0.560975   \n",
      "\n",
      "   IsAlone  Title  Embarked_C  Embarked_Q  Embarked_S  \n",
      "0        0      1       False       False        True  \n",
      "1        0      3        True       False       False  \n",
      "2        1      2       False       False        True  \n",
      "3        0      3       False       False        True  \n",
      "4        1      1       False       False        True  \n",
      "<class 'pandas.core.frame.DataFrame'>\n",
      "RangeIndex: 891 entries, 0 to 890\n",
      "Data columns (total 13 columns):\n",
      " #   Column      Non-Null Count  Dtype  \n",
      "---  ------      --------------  -----  \n",
      " 0   Survived    891 non-null    int64  \n",
      " 1   Pclass      891 non-null    int64  \n",
      " 2   Sex         891 non-null    int64  \n",
      " 3   Age         891 non-null    float64\n",
      " 4   SibSp       891 non-null    int64  \n",
      " 5   Parch       891 non-null    int64  \n",
      " 6   Fare        891 non-null    float64\n",
      " 7   FamilySize  891 non-null    float64\n",
      " 8   IsAlone     891 non-null    int64  \n",
      " 9   Title       891 non-null    int64  \n",
      " 10  Embarked_C  891 non-null    bool   \n",
      " 11  Embarked_Q  891 non-null    bool   \n",
      " 12  Embarked_S  891 non-null    bool   \n",
      "dtypes: bool(3), float64(3), int64(7)\n",
      "memory usage: 72.3 KB\n",
      "None\n"
     ]
    }
   ],
   "source": [
    "print(titanic.head())\n",
    "print(titanic.info())"
   ]
  }
 ],
 "metadata": {
  "kernelspec": {
   "display_name": "myenv",
   "language": "python",
   "name": "python3"
  },
  "language_info": {
   "codemirror_mode": {
    "name": "ipython",
    "version": 3
   },
   "file_extension": ".py",
   "mimetype": "text/x-python",
   "name": "python",
   "nbconvert_exporter": "python",
   "pygments_lexer": "ipython3",
   "version": "3.9.21"
  }
 },
 "nbformat": 4,
 "nbformat_minor": 5
}
